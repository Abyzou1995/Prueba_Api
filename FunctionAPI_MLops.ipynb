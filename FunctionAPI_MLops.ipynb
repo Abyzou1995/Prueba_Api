{
 "cells": [
  {
   "attachments": {},
   "cell_type": "markdown",
   "metadata": {},
   "source": [
    "## Develop API(APPLICATION PROGRAMMING INTERFACE) functions"
   ]
  },
  {
   "attachments": {},
   "cell_type": "markdown",
   "metadata": {},
   "source": [
    "#### Import needed libraries"
   ]
  },
  {
   "cell_type": "code",
   "execution_count": 1,
   "metadata": {},
   "outputs": [],
   "source": [
    "import pandas as pd\n",
    "import numpy as np\n",
    "import json\n",
    "import unicodedata"
   ]
  },
  {
   "attachments": {},
   "cell_type": "markdown",
   "metadata": {},
   "source": [
    "#### Load dataset after ETL is done"
   ]
  },
  {
   "cell_type": "code",
   "execution_count": 64,
   "metadata": {},
   "outputs": [],
   "source": [
    "df=pd.read_csv(\"Dataset_API/dataset_function_API.csv\")\n",
    "\n"
   ]
  },
  {
   "attachments": {},
   "cell_type": "markdown",
   "metadata": {},
   "source": [
    "### API-Function_1"
   ]
  },
  {
   "attachments": {},
   "cell_type": "markdown",
   "metadata": {},
   "source": [
    "### The month is entered and the function returns the number of movies that were released that month"
   ]
  },
  {
   "cell_type": "code",
   "execution_count": 40,
   "metadata": {},
   "outputs": [],
   "source": [
    "df.release_date = pd.to_datetime(df['release_date'], format='%Y-%m-%d', errors='coerce')## Convert datatype release_date to datetime\n",
    "meses = df.release_date.dt.month## get month number from release_date\n",
    "mex = pd.DataFrame(meses.value_counts())## making a dataset of value count for each month\n",
    "mex.reset_index(inplace=True)## reset index\n",
    "mex.rename(columns={\"index\":\"mes\",\"release_date\":\"cantidad\"},inplace=True)## rename columns to idenfity month and amount\n",
    "mex.to_csv(\"Dataset_API/API1.csv\",index=False)## Export dataset for API function 1\n",
    "\n"
   ]
  },
  {
   "cell_type": "code",
   "execution_count": 41,
   "metadata": {},
   "outputs": [
    {
     "data": {
      "text/html": [
       "<div>\n",
       "<style scoped>\n",
       "    .dataframe tbody tr th:only-of-type {\n",
       "        vertical-align: middle;\n",
       "    }\n",
       "\n",
       "    .dataframe tbody tr th {\n",
       "        vertical-align: top;\n",
       "    }\n",
       "\n",
       "    .dataframe thead th {\n",
       "        text-align: right;\n",
       "    }\n",
       "</style>\n",
       "<table border=\"1\" class=\"dataframe\">\n",
       "  <thead>\n",
       "    <tr style=\"text-align: right;\">\n",
       "      <th></th>\n",
       "      <th>mes</th>\n",
       "      <th>cantidad</th>\n",
       "    </tr>\n",
       "  </thead>\n",
       "  <tbody>\n",
       "    <tr>\n",
       "      <th>0</th>\n",
       "      <td>1</td>\n",
       "      <td>5913</td>\n",
       "    </tr>\n",
       "    <tr>\n",
       "      <th>1</th>\n",
       "      <td>9</td>\n",
       "      <td>4839</td>\n",
       "    </tr>\n",
       "    <tr>\n",
       "      <th>2</th>\n",
       "      <td>10</td>\n",
       "      <td>4615</td>\n",
       "    </tr>\n",
       "    <tr>\n",
       "      <th>3</th>\n",
       "      <td>12</td>\n",
       "      <td>3786</td>\n",
       "    </tr>\n",
       "    <tr>\n",
       "      <th>4</th>\n",
       "      <td>11</td>\n",
       "      <td>3661</td>\n",
       "    </tr>\n",
       "    <tr>\n",
       "      <th>5</th>\n",
       "      <td>3</td>\n",
       "      <td>3553</td>\n",
       "    </tr>\n",
       "    <tr>\n",
       "      <th>6</th>\n",
       "      <td>4</td>\n",
       "      <td>3453</td>\n",
       "    </tr>\n",
       "    <tr>\n",
       "      <th>7</th>\n",
       "      <td>8</td>\n",
       "      <td>3395</td>\n",
       "    </tr>\n",
       "    <tr>\n",
       "      <th>8</th>\n",
       "      <td>5</td>\n",
       "      <td>3339</td>\n",
       "    </tr>\n",
       "    <tr>\n",
       "      <th>9</th>\n",
       "      <td>6</td>\n",
       "      <td>3153</td>\n",
       "    </tr>\n",
       "    <tr>\n",
       "      <th>10</th>\n",
       "      <td>2</td>\n",
       "      <td>3032</td>\n",
       "    </tr>\n",
       "    <tr>\n",
       "      <th>11</th>\n",
       "      <td>7</td>\n",
       "      <td>2640</td>\n",
       "    </tr>\n",
       "  </tbody>\n",
       "</table>\n",
       "</div>"
      ],
      "text/plain": [
       "    mes  cantidad\n",
       "0     1      5913\n",
       "1     9      4839\n",
       "2    10      4615\n",
       "3    12      3786\n",
       "4    11      3661\n",
       "5     3      3553\n",
       "6     4      3453\n",
       "7     8      3395\n",
       "8     5      3339\n",
       "9     6      3153\n",
       "10    2      3032\n",
       "11    7      2640"
      ]
     },
     "execution_count": 41,
     "metadata": {},
     "output_type": "execute_result"
    }
   ],
   "source": [
    "aer=pd.read_csv(\"Dataset_API/API1.csv\")## Dataset API function 1 review\n",
    "aer"
   ]
  },
  {
   "cell_type": "code",
   "execution_count": 17,
   "metadata": {},
   "outputs": [],
   "source": [
    "def peliculas_mes(mes):## API function 1\n",
    "    '''Se ingresa el mes y la funcion retorna la cantidad de peliculas que se estrenaron ese mes historicamente'''\n",
    "    if isinstance(mes,str):## parameter condition string\n",
    "        mes=mes.lower()## parameter string to lower\n",
    "        mes=unicodedata.normalize ('NFKD', mes).encode ('ascii', 'ignore').decode ('utf-8', 'ignore')## Filter accent mark\n",
    "        m = {\n",
    "            'enero': 1,\n",
    "            'febrero': 2,\n",
    "            'marzo': 3,\n",
    "            'abril': 4,\n",
    "            'mayo': 5,\n",
    "            'junio': 6,\n",
    "            'julio': 7,\n",
    "            'agosto': 8,\n",
    "            'septiembre': 9,\n",
    "            'octubre': 10,\n",
    "            'noviembre': 11,\n",
    "            'diciembre': 12\n",
    "            }## Dictionary of months\n",
    "        if mes in m: ## condition if parameter is in dictionary\n",
    "            m1=m[mes]\n",
    "        else:\n",
    "            m1=\"\"\n",
    "\n",
    "        jum = aer[aer[\"mes\"] == m1] ## filter dataset with the parameter\n",
    "\n",
    "        if jum.empty==True: ## condition if dataset is empty\n",
    "            respuesta=\"No Data Avaliable\"\n",
    "        else:\n",
    "            respuesta = jum.cantidad.iloc[0]\n",
    "       \n",
    "        return {'mes': mes, 'cantidad': respuesta}\n"
   ]
  },
  {
   "cell_type": "code",
   "execution_count": 18,
   "metadata": {},
   "outputs": [
    {
     "data": {
      "text/plain": [
       "{'mes': 'enero', 'cantidad': 5913}"
      ]
     },
     "execution_count": 18,
     "metadata": {},
     "output_type": "execute_result"
    }
   ],
   "source": [
    "peliculas_mes(\"enero\")## testing functionality with an argument"
   ]
  },
  {
   "attachments": {},
   "cell_type": "markdown",
   "metadata": {},
   "source": [
    "### API function 2"
   ]
  },
  {
   "attachments": {},
   "cell_type": "markdown",
   "metadata": {},
   "source": [
    "#### The day is entered and the function returns the number of movies that were released that day of the week"
   ]
  },
  {
   "cell_type": "code",
   "execution_count": 27,
   "metadata": {},
   "outputs": [],
   "source": [
    "dias = df.release_date.dt.dayofweek##get day of week number\n",
    "dias = pd.DataFrame(dias.value_counts())## making a dataset of value count for each day\n",
    "dias.reset_index(inplace=True)## reset the index\n",
    "dias.rename(columns={\"index\": \"dia\", \"release_date\": \"cantidad\"}, inplace=True)## rename columns to identify days and amount\n",
    "dias.to_csv(\"Dataset_API/API2.csv\",index=False)##Export dataset for API function 2\n"
   ]
  },
  {
   "cell_type": "code",
   "execution_count": 28,
   "metadata": {},
   "outputs": [
    {
     "data": {
      "text/html": [
       "<div>\n",
       "<style scoped>\n",
       "    .dataframe tbody tr th:only-of-type {\n",
       "        vertical-align: middle;\n",
       "    }\n",
       "\n",
       "    .dataframe tbody tr th {\n",
       "        vertical-align: top;\n",
       "    }\n",
       "\n",
       "    .dataframe thead th {\n",
       "        text-align: right;\n",
       "    }\n",
       "</style>\n",
       "<table border=\"1\" class=\"dataframe\">\n",
       "  <thead>\n",
       "    <tr style=\"text-align: right;\">\n",
       "      <th></th>\n",
       "      <th>dia</th>\n",
       "      <th>cantidad</th>\n",
       "    </tr>\n",
       "  </thead>\n",
       "  <tbody>\n",
       "    <tr>\n",
       "      <th>0</th>\n",
       "      <td>4</td>\n",
       "      <td>13908</td>\n",
       "    </tr>\n",
       "    <tr>\n",
       "      <th>1</th>\n",
       "      <td>3</td>\n",
       "      <td>7525</td>\n",
       "    </tr>\n",
       "    <tr>\n",
       "      <th>2</th>\n",
       "      <td>2</td>\n",
       "      <td>7037</td>\n",
       "    </tr>\n",
       "    <tr>\n",
       "      <th>3</th>\n",
       "      <td>5</td>\n",
       "      <td>5152</td>\n",
       "    </tr>\n",
       "    <tr>\n",
       "      <th>4</th>\n",
       "      <td>1</td>\n",
       "      <td>4641</td>\n",
       "    </tr>\n",
       "    <tr>\n",
       "      <th>5</th>\n",
       "      <td>6</td>\n",
       "      <td>3613</td>\n",
       "    </tr>\n",
       "    <tr>\n",
       "      <th>6</th>\n",
       "      <td>0</td>\n",
       "      <td>3503</td>\n",
       "    </tr>\n",
       "  </tbody>\n",
       "</table>\n",
       "</div>"
      ],
      "text/plain": [
       "   dia  cantidad\n",
       "0    4     13908\n",
       "1    3      7525\n",
       "2    2      7037\n",
       "3    5      5152\n",
       "4    1      4641\n",
       "5    6      3613\n",
       "6    0      3503"
      ]
     },
     "execution_count": 28,
     "metadata": {},
     "output_type": "execute_result"
    }
   ],
   "source": [
    "days=pd.read_csv(\"Dataset_API/API2.csv\")## Dataset API function 2 review\n",
    "days"
   ]
  },
  {
   "cell_type": "code",
   "execution_count": 22,
   "metadata": {},
   "outputs": [],
   "source": [
    "def peliculas_dia(dia):##API function 2\n",
    "    '''Se ingresa el dia y la funcion retorna la cantidad de peliculas que se estrebaron ese dia historicamente'''\n",
    "    if isinstance(dia,str):## parameter condition string\n",
    "        dia=dia.lower()##parameter string to lower\n",
    "        dia=unicodedata.normalize ('NFKD', dia).encode ('ascii', 'ignore').decode ('utf-8', 'ignore')## filter accent mark\n",
    "        d = {\n",
    "            'lunes': 0,\n",
    "            'martes': 1,\n",
    "            'miercoles': 2,\n",
    "            'jueves': 3,\n",
    "            'viernes': 4,\n",
    "            'sabado': 5,\n",
    "            'domingo': 6\n",
    "            }##Dictionary of days\n",
    "        \n",
    "        if dia in d:## condition if parameter is in dictionary\n",
    "            d1=d[dia]\n",
    "        else:\n",
    "            d1=\"\"\n",
    "            \n",
    "        jum = dias[dias[\"dia\"] == d1]## filter dataset with the parameter\n",
    "        \n",
    "        if jum.empty==True:## condition if dataset is empty\n",
    "            respuesta= \"No data available\"\n",
    "        else:\n",
    "            respuesta = jum.cantidad.astype(float).iloc[0]\n",
    "    return {'dia': dia, 'cantidad': respuesta}"
   ]
  },
  {
   "cell_type": "code",
   "execution_count": 23,
   "metadata": {},
   "outputs": [
    {
     "data": {
      "text/plain": [
       "{'dia': 'lunes', 'cantidad': 3503.0}"
      ]
     },
     "execution_count": 23,
     "metadata": {},
     "output_type": "execute_result"
    }
   ],
   "source": [
    "peliculas_dia(\"lunés\")## testing functionality with an argument"
   ]
  },
  {
   "attachments": {},
   "cell_type": "markdown",
   "metadata": {},
   "source": [
    "### API function 3"
   ]
  },
  {
   "attachments": {},
   "cell_type": "markdown",
   "metadata": {},
   "source": [
    "#### The franchise is entered, returning the number of movies, total and average profit"
   ]
  },
  {
   "cell_type": "code",
   "execution_count": 42,
   "metadata": {},
   "outputs": [
    {
     "name": "stderr",
     "output_type": "stream",
     "text": [
      "C:\\Users\\angeo\\AppData\\Local\\Temp\\ipykernel_12296\\1971071609.py:2: SettingWithCopyWarning: \n",
      "A value is trying to be set on a copy of a slice from a DataFrame.\n",
      "Try using .loc[row_indexer,col_indexer] = value instead\n",
      "\n",
      "See the caveats in the documentation: https://pandas.pydata.org/pandas-docs/stable/user_guide/indexing.html#returning-a-view-versus-a-copy\n",
      "  franquicia1.belongs_to_collection = franquicia1.belongs_to_collection.str.lower()## Normalize the string to lower case\n",
      "C:\\Users\\angeo\\AppData\\Local\\Temp\\ipykernel_12296\\1971071609.py:3: SettingWithCopyWarning: \n",
      "A value is trying to be set on a copy of a slice from a DataFrame\n",
      "\n",
      "See the caveats in the documentation: https://pandas.pydata.org/pandas-docs/stable/user_guide/indexing.html#returning-a-view-versus-a-copy\n",
      "  franquicia1.dropna(subset=[\"belongs_to_collection\"],inplace=True)\n"
     ]
    }
   ],
   "source": [
    "franquicia1=df[[\"belongs_to_collection\",\"title\",\"revenue\"]]## Getting a new dataset only with needed columns\n",
    "franquicia1.belongs_to_collection = franquicia1.belongs_to_collection.str.lower()## Normalize the string to lower case\n",
    "franquicia1.dropna(subset=[\"belongs_to_collection\"],inplace=True)##Remove empty rows\n",
    "franquicia1.to_csv(\"Dataset_API/API3.csv\",index=False)##Export the dataset for API function 3\n"
   ]
  },
  {
   "cell_type": "code",
   "execution_count": 43,
   "metadata": {},
   "outputs": [
    {
     "data": {
      "text/html": [
       "<div>\n",
       "<style scoped>\n",
       "    .dataframe tbody tr th:only-of-type {\n",
       "        vertical-align: middle;\n",
       "    }\n",
       "\n",
       "    .dataframe tbody tr th {\n",
       "        vertical-align: top;\n",
       "    }\n",
       "\n",
       "    .dataframe thead th {\n",
       "        text-align: right;\n",
       "    }\n",
       "</style>\n",
       "<table border=\"1\" class=\"dataframe\">\n",
       "  <thead>\n",
       "    <tr style=\"text-align: right;\">\n",
       "      <th></th>\n",
       "      <th>belongs_to_collection</th>\n",
       "      <th>title</th>\n",
       "      <th>revenue</th>\n",
       "    </tr>\n",
       "  </thead>\n",
       "  <tbody>\n",
       "    <tr>\n",
       "      <th>0</th>\n",
       "      <td>toy story collection</td>\n",
       "      <td>Toy Story</td>\n",
       "      <td>373554033.0</td>\n",
       "    </tr>\n",
       "    <tr>\n",
       "      <th>1</th>\n",
       "      <td>grumpy old men collection</td>\n",
       "      <td>Grumpier Old Men</td>\n",
       "      <td>0.0</td>\n",
       "    </tr>\n",
       "    <tr>\n",
       "      <th>2</th>\n",
       "      <td>father of the bride collection</td>\n",
       "      <td>Father of the Bride Part II</td>\n",
       "      <td>76578911.0</td>\n",
       "    </tr>\n",
       "    <tr>\n",
       "      <th>3</th>\n",
       "      <td>james bond collection</td>\n",
       "      <td>GoldenEye</td>\n",
       "      <td>352194034.0</td>\n",
       "    </tr>\n",
       "    <tr>\n",
       "      <th>4</th>\n",
       "      <td>balto collection</td>\n",
       "      <td>Balto</td>\n",
       "      <td>11348324.0</td>\n",
       "    </tr>\n",
       "    <tr>\n",
       "      <th>...</th>\n",
       "      <td>...</td>\n",
       "      <td>...</td>\n",
       "      <td>...</td>\n",
       "    </tr>\n",
       "    <tr>\n",
       "      <th>4484</th>\n",
       "      <td>the carry on collection</td>\n",
       "      <td>Carry On Follow That Camel</td>\n",
       "      <td>0.0</td>\n",
       "    </tr>\n",
       "    <tr>\n",
       "      <th>4485</th>\n",
       "      <td>the carry on collection</td>\n",
       "      <td>Carry On Camping</td>\n",
       "      <td>0.0</td>\n",
       "    </tr>\n",
       "    <tr>\n",
       "      <th>4486</th>\n",
       "      <td>the carry on collection</td>\n",
       "      <td>Carry On England</td>\n",
       "      <td>0.0</td>\n",
       "    </tr>\n",
       "    <tr>\n",
       "      <th>4487</th>\n",
       "      <td>dc super hero girls collection</td>\n",
       "      <td>LEGO DC Super Hero Girls: Brain Drain</td>\n",
       "      <td>0.0</td>\n",
       "    </tr>\n",
       "    <tr>\n",
       "      <th>4488</th>\n",
       "      <td>red lotus collection</td>\n",
       "      <td>The Twin Swords</td>\n",
       "      <td>0.0</td>\n",
       "    </tr>\n",
       "  </tbody>\n",
       "</table>\n",
       "<p>4489 rows × 3 columns</p>\n",
       "</div>"
      ],
      "text/plain": [
       "               belongs_to_collection                                  title  \\\n",
       "0               toy story collection                              Toy Story   \n",
       "1          grumpy old men collection                       Grumpier Old Men   \n",
       "2     father of the bride collection            Father of the Bride Part II   \n",
       "3              james bond collection                              GoldenEye   \n",
       "4                   balto collection                                  Balto   \n",
       "...                              ...                                    ...   \n",
       "4484         the carry on collection             Carry On Follow That Camel   \n",
       "4485         the carry on collection                       Carry On Camping   \n",
       "4486         the carry on collection                       Carry On England   \n",
       "4487  dc super hero girls collection  LEGO DC Super Hero Girls: Brain Drain   \n",
       "4488            red lotus collection                        The Twin Swords   \n",
       "\n",
       "          revenue  \n",
       "0     373554033.0  \n",
       "1             0.0  \n",
       "2      76578911.0  \n",
       "3     352194034.0  \n",
       "4      11348324.0  \n",
       "...           ...  \n",
       "4484          0.0  \n",
       "4485          0.0  \n",
       "4486          0.0  \n",
       "4487          0.0  \n",
       "4488          0.0  \n",
       "\n",
       "[4489 rows x 3 columns]"
      ]
     },
     "execution_count": 43,
     "metadata": {},
     "output_type": "execute_result"
    }
   ],
   "source": [
    "frank=pd.read_csv(\"Dataset_API/API3.csv\")## Dataset API function 3 review\n",
    "frank"
   ]
  },
  {
   "cell_type": "code",
   "execution_count": 45,
   "metadata": {},
   "outputs": [],
   "source": [
    "def franquicia(franquiciax):## Api function 3\n",
    "    '''Se ingresa la franquicia, retornando la cantidad de peliculas, ganancia total y promedio'''\n",
    "    if isinstance(franquiciax,str):##parameter condition string\n",
    "        franquiciax = franquiciax.lower()## parameter sting to lower\n",
    "        franquiciax = unicodedata.normalize('NFKD', franquiciax).encode(\n",
    "            'ascii', 'ignore').decode('utf-8', 'ignore')## filter accent mark\n",
    "        ganancias = franquicia1[\"revenue\"][franquicia1[\"belongs_to_collection\"].str.contains(franquiciax)==True]## filter dataset with the parameter\n",
    "        if ganancias.empty==True:## condition if dataset is empty\n",
    "            respuesta1= \"No data available\"\n",
    "            respuesta2= \"No data available\"\n",
    "            respuesta3= \"No data available\"\n",
    "        else:\n",
    "            respuesta1=ganancias.shape[0]\n",
    "            respuesta2=ganancias.sum()\n",
    "            respuesta3=ganancias.mean()\n",
    "\n",
    "    return {'franquicia': franquiciax, 'cantidad': respuesta1, 'ganancia_total': respuesta2, 'ganancia_promedio': respuesta3}\n"
   ]
  },
  {
   "cell_type": "code",
   "execution_count": 46,
   "metadata": {},
   "outputs": [
    {
     "data": {
      "text/plain": [
       "{'franquicia': 'toy story collection',\n",
       " 'cantidad': 3,\n",
       " 'ganancia_total': 1937890605.0,\n",
       " 'ganancia_promedio': 645963535.0}"
      ]
     },
     "execution_count": 46,
     "metadata": {},
     "output_type": "execute_result"
    }
   ],
   "source": [
    "franquicia(\"Toy Story Collection\")## testing functionality with an argument\n"
   ]
  },
  {
   "attachments": {},
   "cell_type": "markdown",
   "metadata": {},
   "source": [
    "### API function 4"
   ]
  },
  {
   "attachments": {},
   "cell_type": "markdown",
   "metadata": {},
   "source": [
    "#### Enter the country, returning the number of films produced in the same"
   ]
  },
  {
   "cell_type": "code",
   "execution_count": 49,
   "metadata": {},
   "outputs": [
    {
     "name": "stderr",
     "output_type": "stream",
     "text": [
      "C:\\Users\\angeo\\AppData\\Local\\Temp\\ipykernel_12296\\1726788140.py:2: SettingWithCopyWarning: \n",
      "A value is trying to be set on a copy of a slice from a DataFrame.\n",
      "Try using .loc[row_indexer,col_indexer] = value instead\n",
      "\n",
      "See the caveats in the documentation: https://pandas.pydata.org/pandas-docs/stable/user_guide/indexing.html#returning-a-view-versus-a-copy\n",
      "  paises[\"production_countries\"] = paises[\"production_countries\"].str.lower()## Normalize the string to lower case\n"
     ]
    }
   ],
   "source": [
    "paises=df[[\"title\",\"production_countries\"]]## Getting a new dataset only with needed columns\n",
    "paises[\"production_countries\"] = paises[\"production_countries\"].str.lower()## Normalize the string to lower case\n",
    "paises.to_csv(\"Dataset_API/API4.csv\",index=False)##Export the dataset for API function 4"
   ]
  },
  {
   "cell_type": "code",
   "execution_count": 50,
   "metadata": {},
   "outputs": [
    {
     "data": {
      "text/html": [
       "<div>\n",
       "<style scoped>\n",
       "    .dataframe tbody tr th:only-of-type {\n",
       "        vertical-align: middle;\n",
       "    }\n",
       "\n",
       "    .dataframe tbody tr th {\n",
       "        vertical-align: top;\n",
       "    }\n",
       "\n",
       "    .dataframe thead th {\n",
       "        text-align: right;\n",
       "    }\n",
       "</style>\n",
       "<table border=\"1\" class=\"dataframe\">\n",
       "  <thead>\n",
       "    <tr style=\"text-align: right;\">\n",
       "      <th></th>\n",
       "      <th>title</th>\n",
       "      <th>production_countries</th>\n",
       "    </tr>\n",
       "  </thead>\n",
       "  <tbody>\n",
       "    <tr>\n",
       "      <th>0</th>\n",
       "      <td>Toy Story</td>\n",
       "      <td>['united states of america']</td>\n",
       "    </tr>\n",
       "    <tr>\n",
       "      <th>1</th>\n",
       "      <td>Jumanji</td>\n",
       "      <td>['united states of america']</td>\n",
       "    </tr>\n",
       "    <tr>\n",
       "      <th>2</th>\n",
       "      <td>Grumpier Old Men</td>\n",
       "      <td>['united states of america']</td>\n",
       "    </tr>\n",
       "    <tr>\n",
       "      <th>3</th>\n",
       "      <td>Waiting to Exhale</td>\n",
       "      <td>['united states of america']</td>\n",
       "    </tr>\n",
       "    <tr>\n",
       "      <th>4</th>\n",
       "      <td>Father of the Bride Part II</td>\n",
       "      <td>['united states of america']</td>\n",
       "    </tr>\n",
       "    <tr>\n",
       "      <th>...</th>\n",
       "      <td>...</td>\n",
       "      <td>...</td>\n",
       "    </tr>\n",
       "    <tr>\n",
       "      <th>45374</th>\n",
       "      <td>Robin Hood</td>\n",
       "      <td>['canada', 'germany', 'united kingdom', 'unite...</td>\n",
       "    </tr>\n",
       "    <tr>\n",
       "      <th>45375</th>\n",
       "      <td>Century of Birthing</td>\n",
       "      <td>['philippines']</td>\n",
       "    </tr>\n",
       "    <tr>\n",
       "      <th>45376</th>\n",
       "      <td>Betrayal</td>\n",
       "      <td>['united states of america']</td>\n",
       "    </tr>\n",
       "    <tr>\n",
       "      <th>45377</th>\n",
       "      <td>Satan Triumphant</td>\n",
       "      <td>['russia']</td>\n",
       "    </tr>\n",
       "    <tr>\n",
       "      <th>45378</th>\n",
       "      <td>Queerama</td>\n",
       "      <td>['united kingdom']</td>\n",
       "    </tr>\n",
       "  </tbody>\n",
       "</table>\n",
       "<p>45379 rows × 2 columns</p>\n",
       "</div>"
      ],
      "text/plain": [
       "                             title  \\\n",
       "0                        Toy Story   \n",
       "1                          Jumanji   \n",
       "2                 Grumpier Old Men   \n",
       "3                Waiting to Exhale   \n",
       "4      Father of the Bride Part II   \n",
       "...                            ...   \n",
       "45374                   Robin Hood   \n",
       "45375          Century of Birthing   \n",
       "45376                     Betrayal   \n",
       "45377             Satan Triumphant   \n",
       "45378                     Queerama   \n",
       "\n",
       "                                    production_countries  \n",
       "0                           ['united states of america']  \n",
       "1                           ['united states of america']  \n",
       "2                           ['united states of america']  \n",
       "3                           ['united states of america']  \n",
       "4                           ['united states of america']  \n",
       "...                                                  ...  \n",
       "45374  ['canada', 'germany', 'united kingdom', 'unite...  \n",
       "45375                                    ['philippines']  \n",
       "45376                       ['united states of america']  \n",
       "45377                                         ['russia']  \n",
       "45378                                 ['united kingdom']  \n",
       "\n",
       "[45379 rows x 2 columns]"
      ]
     },
     "execution_count": 50,
     "metadata": {},
     "output_type": "execute_result"
    }
   ],
   "source": [
    "paises=pd.read_csv(\"Dataset_API/API4.csv\")## Dataset API function 4 review\n",
    "paises"
   ]
  },
  {
   "cell_type": "code",
   "execution_count": 51,
   "metadata": {},
   "outputs": [],
   "source": [
    "def peliculas_pais(pais):## Api function 4\n",
    "    '''Ingresas el pais, retornando la cantidad de peliculas producidas en el mismo'''\n",
    "    if isinstance(pais, str):##parameter condition string\n",
    "        pais = pais.lower()## parameter sting to lower\n",
    "        pais = unicodedata.normalize('NFKD', pais).encode(\n",
    "            'ascii', 'ignore').decode('utf-8', 'ignore')## filter accent mark\n",
    "        ganancias = paises[\"title\"][paises[\"production_countries\"].str.contains(pais+\"'\") == True]## filter dataset with the parameter\n",
    "        if ganancias.empty==True:## condition if dataset is empty\n",
    "            respuesta1= \"No data available\"\n",
    "        else:\n",
    "            respuesta1 = ganancias.shape[0]\n",
    "        \n",
    "    return {'pais': pais, 'cantidad': respuesta1}\n"
   ]
  },
  {
   "cell_type": "code",
   "execution_count": 52,
   "metadata": {},
   "outputs": [
    {
     "data": {
      "text/plain": [
       "{'pais': 'philippines', 'cantidad': 83}"
      ]
     },
     "execution_count": 52,
     "metadata": {},
     "output_type": "execute_result"
    }
   ],
   "source": [
    "peliculas_pais(\"Philippines\")## testing functionality with an argument\n"
   ]
  },
  {
   "attachments": {},
   "cell_type": "markdown",
   "metadata": {},
   "source": [
    "### API function 5"
   ]
  },
  {
   "attachments": {},
   "cell_type": "markdown",
   "metadata": {},
   "source": [
    "#### You enter the production company, returning the total profit and the number of movies they produced"
   ]
  },
  {
   "cell_type": "code",
   "execution_count": 53,
   "metadata": {},
   "outputs": [
    {
     "name": "stderr",
     "output_type": "stream",
     "text": [
      "C:\\Users\\angeo\\AppData\\Local\\Temp\\ipykernel_12296\\134239939.py:2: SettingWithCopyWarning: \n",
      "A value is trying to be set on a copy of a slice from a DataFrame.\n",
      "Try using .loc[row_indexer,col_indexer] = value instead\n",
      "\n",
      "See the caveats in the documentation: https://pandas.pydata.org/pandas-docs/stable/user_guide/indexing.html#returning-a-view-versus-a-copy\n",
      "  productoras1[\"production_companies\"]=productoras1[\"production_companies\"].str.lower()## Normalize the string to lower case\n"
     ]
    }
   ],
   "source": [
    "productoras1=df[[\"title\",\"production_companies\",\"revenue\"]]## Getting a new dataset only with needed columns\n",
    "productoras1[\"production_companies\"]=productoras1[\"production_companies\"].str.lower()## Normalize the string to lower case\n",
    "productoras1.to_csv(\"Dataset_API/API5.csv\",index=False)##Export the dataset for API function 5"
   ]
  },
  {
   "cell_type": "code",
   "execution_count": 54,
   "metadata": {},
   "outputs": [
    {
     "data": {
      "text/html": [
       "<div>\n",
       "<style scoped>\n",
       "    .dataframe tbody tr th:only-of-type {\n",
       "        vertical-align: middle;\n",
       "    }\n",
       "\n",
       "    .dataframe tbody tr th {\n",
       "        vertical-align: top;\n",
       "    }\n",
       "\n",
       "    .dataframe thead th {\n",
       "        text-align: right;\n",
       "    }\n",
       "</style>\n",
       "<table border=\"1\" class=\"dataframe\">\n",
       "  <thead>\n",
       "    <tr style=\"text-align: right;\">\n",
       "      <th></th>\n",
       "      <th>title</th>\n",
       "      <th>production_companies</th>\n",
       "      <th>revenue</th>\n",
       "    </tr>\n",
       "  </thead>\n",
       "  <tbody>\n",
       "    <tr>\n",
       "      <th>0</th>\n",
       "      <td>Toy Story</td>\n",
       "      <td>['pixar animation studios']</td>\n",
       "      <td>373554033.0</td>\n",
       "    </tr>\n",
       "    <tr>\n",
       "      <th>1</th>\n",
       "      <td>Jumanji</td>\n",
       "      <td>['tristar pictures', 'teitler film', 'intersco...</td>\n",
       "      <td>262797249.0</td>\n",
       "    </tr>\n",
       "    <tr>\n",
       "      <th>2</th>\n",
       "      <td>Grumpier Old Men</td>\n",
       "      <td>['warner bros.', 'lancaster gate']</td>\n",
       "      <td>0.0</td>\n",
       "    </tr>\n",
       "    <tr>\n",
       "      <th>3</th>\n",
       "      <td>Waiting to Exhale</td>\n",
       "      <td>['twentieth century fox film corporation']</td>\n",
       "      <td>81452156.0</td>\n",
       "    </tr>\n",
       "    <tr>\n",
       "      <th>4</th>\n",
       "      <td>Father of the Bride Part II</td>\n",
       "      <td>['sandollar productions', 'touchstone pictures']</td>\n",
       "      <td>76578911.0</td>\n",
       "    </tr>\n",
       "    <tr>\n",
       "      <th>...</th>\n",
       "      <td>...</td>\n",
       "      <td>...</td>\n",
       "      <td>...</td>\n",
       "    </tr>\n",
       "    <tr>\n",
       "      <th>45374</th>\n",
       "      <td>Robin Hood</td>\n",
       "      <td>['westdeutscher rundfunk (wdr)', 'working titl...</td>\n",
       "      <td>0.0</td>\n",
       "    </tr>\n",
       "    <tr>\n",
       "      <th>45375</th>\n",
       "      <td>Century of Birthing</td>\n",
       "      <td>['sine olivia']</td>\n",
       "      <td>0.0</td>\n",
       "    </tr>\n",
       "    <tr>\n",
       "      <th>45376</th>\n",
       "      <td>Betrayal</td>\n",
       "      <td>['american world pictures']</td>\n",
       "      <td>0.0</td>\n",
       "    </tr>\n",
       "    <tr>\n",
       "      <th>45377</th>\n",
       "      <td>Satan Triumphant</td>\n",
       "      <td>['yermoliev']</td>\n",
       "      <td>0.0</td>\n",
       "    </tr>\n",
       "    <tr>\n",
       "      <th>45378</th>\n",
       "      <td>Queerama</td>\n",
       "      <td>NaN</td>\n",
       "      <td>0.0</td>\n",
       "    </tr>\n",
       "  </tbody>\n",
       "</table>\n",
       "<p>45379 rows × 3 columns</p>\n",
       "</div>"
      ],
      "text/plain": [
       "                             title  \\\n",
       "0                        Toy Story   \n",
       "1                          Jumanji   \n",
       "2                 Grumpier Old Men   \n",
       "3                Waiting to Exhale   \n",
       "4      Father of the Bride Part II   \n",
       "...                            ...   \n",
       "45374                   Robin Hood   \n",
       "45375          Century of Birthing   \n",
       "45376                     Betrayal   \n",
       "45377             Satan Triumphant   \n",
       "45378                     Queerama   \n",
       "\n",
       "                                    production_companies      revenue  \n",
       "0                            ['pixar animation studios']  373554033.0  \n",
       "1      ['tristar pictures', 'teitler film', 'intersco...  262797249.0  \n",
       "2                     ['warner bros.', 'lancaster gate']          0.0  \n",
       "3             ['twentieth century fox film corporation']   81452156.0  \n",
       "4       ['sandollar productions', 'touchstone pictures']   76578911.0  \n",
       "...                                                  ...          ...  \n",
       "45374  ['westdeutscher rundfunk (wdr)', 'working titl...          0.0  \n",
       "45375                                    ['sine olivia']          0.0  \n",
       "45376                        ['american world pictures']          0.0  \n",
       "45377                                      ['yermoliev']          0.0  \n",
       "45378                                                NaN          0.0  \n",
       "\n",
       "[45379 rows x 3 columns]"
      ]
     },
     "execution_count": 54,
     "metadata": {},
     "output_type": "execute_result"
    }
   ],
   "source": [
    "productoras1=pd.read_csv(\"Dataset_API/API5.csv\")## Dataset API function 5 review\n",
    "productoras1"
   ]
  },
  {
   "cell_type": "code",
   "execution_count": 55,
   "metadata": {},
   "outputs": [],
   "source": [
    "def productoras(productora):## Api function 5\n",
    "    '''Ingresas la productora, retornando la ganancia toal y la cantidad de peliculas que produjeron'''\n",
    "    if isinstance(productora, str):##parameter condition string\n",
    "        productora = productora.lower()## parameter sting to lower\n",
    "        productora = unicodedata.normalize('NFKD', productora).encode(\n",
    "            'ascii', 'ignore').decode('utf-8', 'ignore')## filter accent mark\n",
    "        ganancias = productoras1[\"revenue\"][productoras1[\"production_companies\"].str.contains(\n",
    "            productora+\"'\") == True]## filter dataset with the parameter\n",
    "        if ganancias.empty==True:## condition if dataset is empty\n",
    "            respuesta1= \"No data available\"\n",
    "            respuesta2= \"No data available\"\n",
    "        else:\n",
    "            respuesta2 = ganancias.shape[0]\n",
    "            respuesta1=  ganancias.sum()\n",
    "    return {'productora': productora, 'ganancia_total': respuesta1, 'cantidad': respuesta2}\n"
   ]
  },
  {
   "cell_type": "code",
   "execution_count": 57,
   "metadata": {},
   "outputs": [
    {
     "data": {
      "text/plain": [
       "{'productora': 'pixar animation studios',\n",
       " 'ganancia_total': 11188533734.0,\n",
       " 'cantidad': 52}"
      ]
     },
     "execution_count": 57,
     "metadata": {},
     "output_type": "execute_result"
    }
   ],
   "source": [
    "productoras(\"Pixar Animation Studios\")## testing functionality with an argument\n"
   ]
  },
  {
   "attachments": {},
   "cell_type": "markdown",
   "metadata": {},
   "source": [
    "### API function 6"
   ]
  },
  {
   "attachments": {},
   "cell_type": "markdown",
   "metadata": {},
   "source": [
    "#### You enter the movie, returning the investment, the profit, the return and the year in which it was released"
   ]
  },
  {
   "cell_type": "code",
   "execution_count": 59,
   "metadata": {},
   "outputs": [
    {
     "name": "stderr",
     "output_type": "stream",
     "text": [
      "C:\\Users\\angeo\\AppData\\Local\\Temp\\ipykernel_12296\\420263252.py:2: SettingWithCopyWarning: \n",
      "A value is trying to be set on a copy of a slice from a DataFrame.\n",
      "Try using .loc[row_indexer,col_indexer] = value instead\n",
      "\n",
      "See the caveats in the documentation: https://pandas.pydata.org/pandas-docs/stable/user_guide/indexing.html#returning-a-view-versus-a-copy\n",
      "  retornos.title=retornos.title.str.lower()## Normalize the string to lower case\n"
     ]
    }
   ],
   "source": [
    "retornos=df[[\"title\",\"revenue\",\"budget\",\"return\",\"release_year\"]]## Getting a new dataset only with needed columns\n",
    "retornos.title=retornos.title.str.lower()## Normalize the string to lower case\n",
    "retornos.to_csv(\"Dataset_API/API6.csv\",index=False)##Export the dataset for API function 6"
   ]
  },
  {
   "cell_type": "code",
   "execution_count": 60,
   "metadata": {},
   "outputs": [
    {
     "data": {
      "text/html": [
       "<div>\n",
       "<style scoped>\n",
       "    .dataframe tbody tr th:only-of-type {\n",
       "        vertical-align: middle;\n",
       "    }\n",
       "\n",
       "    .dataframe tbody tr th {\n",
       "        vertical-align: top;\n",
       "    }\n",
       "\n",
       "    .dataframe thead th {\n",
       "        text-align: right;\n",
       "    }\n",
       "</style>\n",
       "<table border=\"1\" class=\"dataframe\">\n",
       "  <thead>\n",
       "    <tr style=\"text-align: right;\">\n",
       "      <th></th>\n",
       "      <th>title</th>\n",
       "      <th>revenue</th>\n",
       "      <th>budget</th>\n",
       "      <th>return</th>\n",
       "      <th>release_year</th>\n",
       "    </tr>\n",
       "  </thead>\n",
       "  <tbody>\n",
       "    <tr>\n",
       "      <th>0</th>\n",
       "      <td>toy story</td>\n",
       "      <td>373554033.0</td>\n",
       "      <td>30000000.0</td>\n",
       "      <td>12.451801</td>\n",
       "      <td>1995</td>\n",
       "    </tr>\n",
       "    <tr>\n",
       "      <th>1</th>\n",
       "      <td>jumanji</td>\n",
       "      <td>262797249.0</td>\n",
       "      <td>65000000.0</td>\n",
       "      <td>4.043035</td>\n",
       "      <td>1995</td>\n",
       "    </tr>\n",
       "    <tr>\n",
       "      <th>2</th>\n",
       "      <td>grumpier old men</td>\n",
       "      <td>0.0</td>\n",
       "      <td>0.0</td>\n",
       "      <td>0.000000</td>\n",
       "      <td>1995</td>\n",
       "    </tr>\n",
       "    <tr>\n",
       "      <th>3</th>\n",
       "      <td>waiting to exhale</td>\n",
       "      <td>81452156.0</td>\n",
       "      <td>16000000.0</td>\n",
       "      <td>5.090760</td>\n",
       "      <td>1995</td>\n",
       "    </tr>\n",
       "    <tr>\n",
       "      <th>4</th>\n",
       "      <td>father of the bride part ii</td>\n",
       "      <td>76578911.0</td>\n",
       "      <td>0.0</td>\n",
       "      <td>0.000000</td>\n",
       "      <td>1995</td>\n",
       "    </tr>\n",
       "    <tr>\n",
       "      <th>...</th>\n",
       "      <td>...</td>\n",
       "      <td>...</td>\n",
       "      <td>...</td>\n",
       "      <td>...</td>\n",
       "      <td>...</td>\n",
       "    </tr>\n",
       "    <tr>\n",
       "      <th>45374</th>\n",
       "      <td>robin hood</td>\n",
       "      <td>0.0</td>\n",
       "      <td>0.0</td>\n",
       "      <td>0.000000</td>\n",
       "      <td>1991</td>\n",
       "    </tr>\n",
       "    <tr>\n",
       "      <th>45375</th>\n",
       "      <td>century of birthing</td>\n",
       "      <td>0.0</td>\n",
       "      <td>0.0</td>\n",
       "      <td>0.000000</td>\n",
       "      <td>2011</td>\n",
       "    </tr>\n",
       "    <tr>\n",
       "      <th>45376</th>\n",
       "      <td>betrayal</td>\n",
       "      <td>0.0</td>\n",
       "      <td>0.0</td>\n",
       "      <td>0.000000</td>\n",
       "      <td>2003</td>\n",
       "    </tr>\n",
       "    <tr>\n",
       "      <th>45377</th>\n",
       "      <td>satan triumphant</td>\n",
       "      <td>0.0</td>\n",
       "      <td>0.0</td>\n",
       "      <td>0.000000</td>\n",
       "      <td>1917</td>\n",
       "    </tr>\n",
       "    <tr>\n",
       "      <th>45378</th>\n",
       "      <td>queerama</td>\n",
       "      <td>0.0</td>\n",
       "      <td>0.0</td>\n",
       "      <td>0.000000</td>\n",
       "      <td>2017</td>\n",
       "    </tr>\n",
       "  </tbody>\n",
       "</table>\n",
       "<p>45379 rows × 5 columns</p>\n",
       "</div>"
      ],
      "text/plain": [
       "                             title      revenue      budget     return  \\\n",
       "0                        toy story  373554033.0  30000000.0  12.451801   \n",
       "1                          jumanji  262797249.0  65000000.0   4.043035   \n",
       "2                 grumpier old men          0.0         0.0   0.000000   \n",
       "3                waiting to exhale   81452156.0  16000000.0   5.090760   \n",
       "4      father of the bride part ii   76578911.0         0.0   0.000000   \n",
       "...                            ...          ...         ...        ...   \n",
       "45374                   robin hood          0.0         0.0   0.000000   \n",
       "45375          century of birthing          0.0         0.0   0.000000   \n",
       "45376                     betrayal          0.0         0.0   0.000000   \n",
       "45377             satan triumphant          0.0         0.0   0.000000   \n",
       "45378                     queerama          0.0         0.0   0.000000   \n",
       "\n",
       "       release_year  \n",
       "0              1995  \n",
       "1              1995  \n",
       "2              1995  \n",
       "3              1995  \n",
       "4              1995  \n",
       "...             ...  \n",
       "45374          1991  \n",
       "45375          2011  \n",
       "45376          2003  \n",
       "45377          1917  \n",
       "45378          2017  \n",
       "\n",
       "[45379 rows x 5 columns]"
      ]
     },
     "execution_count": 60,
     "metadata": {},
     "output_type": "execute_result"
    }
   ],
   "source": [
    "retornos=pd.read_csv(\"Dataset_API/API6.csv\")#### Dataset API function 6 review\n",
    "retornos"
   ]
  },
  {
   "cell_type": "code",
   "execution_count": 61,
   "metadata": {},
   "outputs": [],
   "source": [
    "def retorno(pelicula):## Api function 6\n",
    "    '''Ingresas la pelicula, retornando la inversion, la ganancia, el retorno y el año en el que se lanzo'''\n",
    "    if isinstance(pelicula, str):##parameter condition string\n",
    "        pelicula = pelicula.lower()## parameter sting to lower\n",
    "        pelicula = unicodedata.normalize('NFKD', pelicula).encode('ascii', 'ignore').decode('utf-8', 'ignore')## filter accent mark\n",
    "        ganancias = retornos[retornos[\"title\"]==pelicula]## filter dataset with the parameter\n",
    "        \n",
    "        if ganancias.empty==True:## condition if dataset is empty\n",
    "            nombre=pelicula\n",
    "            respuesta1= \"No data available\"\n",
    "            respuesta2= \"No data available\"\n",
    "            respuesta3= \"No data available\"\n",
    "            respuesta4= \"No data available\"\n",
    "        else:\n",
    "            nombre=ganancias.title.values.tolist()\n",
    "            respuesta1 = ganancias.budget.values.tolist()\n",
    "            respuesta2 = ganancias.revenue.values.tolist()\n",
    "            respuesta3 = ganancias[\"return\"].values.tolist()\n",
    "            respuesta4 = ganancias[\"release_year\"].values.tolist()\n",
    "    return {'pelicula': nombre, 'inversion': respuesta1, 'ganacia': respuesta2, 'retorno': respuesta3, 'anio': respuesta4}\n"
   ]
  },
  {
   "cell_type": "code",
   "execution_count": 63,
   "metadata": {},
   "outputs": [
    {
     "data": {
      "text/plain": [
       "{'pelicula': ['robin hood', 'robin hood', 'robin hood', 'robin hood'],\n",
       " 'inversion': [15000000.0, 0.0, 200000000.0, 0.0],\n",
       " 'ganacia': [32056467.0, 0.0, 310669540.0, 0.0],\n",
       " 'retorno': [2.1370978, 0.0, 1.5533477, 0.0],\n",
       " 'anio': [1973, 1922, 2010, 1991]}"
      ]
     },
     "execution_count": 63,
     "metadata": {},
     "output_type": "execute_result"
    }
   ],
   "source": [
    "retorno('robin hood')## testing functionality with an argument\n"
   ]
  },
  {
   "cell_type": "code",
   "execution_count": 11,
   "metadata": {},
   "outputs": [],
   "source": [
    "\n",
    "# ML\n",
    "\n",
    "def recomendacion(titulo):\n",
    "    '''Ingresas un nombre de pelicula y te recomienda las similares en una lista'''\n",
    "    return {'lista recomendada': respuesta}\n"
   ]
  }
 ],
 "metadata": {
  "kernelspec": {
   "display_name": "Python 3",
   "language": "python",
   "name": "python3"
  },
  "language_info": {
   "codemirror_mode": {
    "name": "ipython",
    "version": 3
   },
   "file_extension": ".py",
   "mimetype": "text/x-python",
   "name": "python",
   "nbconvert_exporter": "python",
   "pygments_lexer": "ipython3",
   "version": "3.10.11"
  },
  "orig_nbformat": 4
 },
 "nbformat": 4,
 "nbformat_minor": 2
}
