{
 "cells": [
  {
   "cell_type": "code",
   "execution_count": 186,
   "metadata": {},
   "outputs": [],
   "source": [
    "import pandas as pd\n",
    "from sklearn.feature_extraction.text import TfidfVectorizer\n",
    "from sklearn.feature_extraction.text import CountVectorizer\n",
    "from sklearn.metrics.pairwise import linear_kernel\n",
    "from ast import literal_eval"
   ]
  },
  {
   "cell_type": "code",
   "execution_count": 192,
   "metadata": {},
   "outputs": [],
   "source": [
    "df=pd.read_csv(\"Dataset_ML/Dataset_ML_function.csv\")"
   ]
  },
  {
   "cell_type": "code",
   "execution_count": 193,
   "metadata": {},
   "outputs": [],
   "source": [
    "df.title=df.title.str.lower()## Normalize title to lowercase\n",
    "df.genres=df.genres.str.replace(\" \",\"\")##Removing blank spaces\n",
    "df.genres=df.genres.apply(literal_eval)## Setting correct datatype in column genres\n",
    "df[\"features\"]=df.genres"
   ]
  },
  {
   "cell_type": "code",
   "execution_count": 194,
   "metadata": {},
   "outputs": [
    {
     "name": "stderr",
     "output_type": "stream",
     "text": [
      "C:\\Users\\angeo\\AppData\\Local\\Temp\\ipykernel_2444\\158336877.py:2: SettingWithCopyWarning: \n",
      "A value is trying to be set on a copy of a slice from a DataFrame\n",
      "\n",
      "See the caveats in the documentation: https://pandas.pydata.org/pandas-docs/stable/user_guide/indexing.html#returning-a-view-versus-a-copy\n",
      "  df.genres.iloc[i]=\" \".join(df.genres.iloc[i])\n",
      "C:\\Users\\angeo\\AppData\\Local\\Temp\\ipykernel_2444\\158336877.py:4: SettingWithCopyWarning: \n",
      "A value is trying to be set on a copy of a slice from a DataFrame\n",
      "\n",
      "See the caveats in the documentation: https://pandas.pydata.org/pandas-docs/stable/user_guide/indexing.html#returning-a-view-versus-a-copy\n",
      "  df.features.iloc[i]=df.genres.iloc[i]+\" \"+df.overview.iloc[i]\n"
     ]
    }
   ],
   "source": [
    "for i in range(df.shape[0]):\n",
    "    df.genres.iloc[i]=\" \".join(df.genres.iloc[i])\n",
    "for i in range(df.shape[0]):\n",
    "    df.features.iloc[i]=df.genres.iloc[i]+\" \"+df.overview.iloc[i]"
   ]
  },
  {
   "cell_type": "code",
   "execution_count": 195,
   "metadata": {},
   "outputs": [],
   "source": [
    "df = df.sort_values(\"popularity\", ascending=False)## Priority by popularity.. due an computational cost if whole dataset is used in ML model\n",
    "df.drop([\"genres\",\"overview\",\"popularity\"],inplace=True,axis=1)\n",
    "df.features=df.features.str.lower()\n",
    "df.reset_index(drop=True,inplace=True)"
   ]
  },
  {
   "cell_type": "code",
   "execution_count": 197,
   "metadata": {},
   "outputs": [
    {
     "data": {
      "text/html": [
       "<div>\n",
       "<style scoped>\n",
       "    .dataframe tbody tr th:only-of-type {\n",
       "        vertical-align: middle;\n",
       "    }\n",
       "\n",
       "    .dataframe tbody tr th {\n",
       "        vertical-align: top;\n",
       "    }\n",
       "\n",
       "    .dataframe thead th {\n",
       "        text-align: right;\n",
       "    }\n",
       "</style>\n",
       "<table border=\"1\" class=\"dataframe\">\n",
       "  <thead>\n",
       "    <tr style=\"text-align: right;\">\n",
       "      <th></th>\n",
       "      <th>title</th>\n",
       "      <th>features</th>\n",
       "    </tr>\n",
       "  </thead>\n",
       "  <tbody>\n",
       "    <tr>\n",
       "      <th>0</th>\n",
       "      <td>minions</td>\n",
       "      <td>family animation adventure comedy minions stua...</td>\n",
       "    </tr>\n",
       "    <tr>\n",
       "      <th>1</th>\n",
       "      <td>baby driver</td>\n",
       "      <td>action crime after being coerced into working ...</td>\n",
       "    </tr>\n",
       "    <tr>\n",
       "      <th>2</th>\n",
       "      <td>big hero 6</td>\n",
       "      <td>adventure family animation action comedy the s...</td>\n",
       "    </tr>\n",
       "    <tr>\n",
       "      <th>3</th>\n",
       "      <td>deadpool</td>\n",
       "      <td>action adventure comedy deadpool tells the ori...</td>\n",
       "    </tr>\n",
       "    <tr>\n",
       "      <th>4</th>\n",
       "      <td>guardians of the galaxy vol. 2</td>\n",
       "      <td>action adventure comedy sciencefiction the gua...</td>\n",
       "    </tr>\n",
       "    <tr>\n",
       "      <th>...</th>\n",
       "      <td>...</td>\n",
       "      <td>...</td>\n",
       "    </tr>\n",
       "    <tr>\n",
       "      <th>39304</th>\n",
       "      <td>terror</td>\n",
       "      <td>horror dr. vishal, a mad scientist, turns into...</td>\n",
       "    </tr>\n",
       "    <tr>\n",
       "      <th>39305</th>\n",
       "      <td>altar of fire</td>\n",
       "      <td>documentary this film records a 12 day ritual ...</td>\n",
       "    </tr>\n",
       "    <tr>\n",
       "      <th>39306</th>\n",
       "      <td>casual relations</td>\n",
       "      <td>drama in rappaportâ€™s dazzling and bizarre fe...</td>\n",
       "    </tr>\n",
       "    <tr>\n",
       "      <th>39307</th>\n",
       "      <td>narrien illat</td>\n",
       "      <td>comedy drama music the ups and downs of the po...</td>\n",
       "    </tr>\n",
       "    <tr>\n",
       "      <th>39308</th>\n",
       "      <td>kiljusen herrasvã¤ki</td>\n",
       "      <td>comedy a finnish comedy based on the books of ...</td>\n",
       "    </tr>\n",
       "  </tbody>\n",
       "</table>\n",
       "<p>39309 rows × 2 columns</p>\n",
       "</div>"
      ],
      "text/plain": [
       "                                title  \\\n",
       "0                             minions   \n",
       "1                         baby driver   \n",
       "2                          big hero 6   \n",
       "3                            deadpool   \n",
       "4      guardians of the galaxy vol. 2   \n",
       "...                               ...   \n",
       "39304                          terror   \n",
       "39305                   altar of fire   \n",
       "39306                casual relations   \n",
       "39307                   narrien illat   \n",
       "39308            kiljusen herrasvã¤ki   \n",
       "\n",
       "                                                features  \n",
       "0      family animation adventure comedy minions stua...  \n",
       "1      action crime after being coerced into working ...  \n",
       "2      adventure family animation action comedy the s...  \n",
       "3      action adventure comedy deadpool tells the ori...  \n",
       "4      action adventure comedy sciencefiction the gua...  \n",
       "...                                                  ...  \n",
       "39304  horror dr. vishal, a mad scientist, turns into...  \n",
       "39305  documentary this film records a 12 day ritual ...  \n",
       "39306  drama in rappaportâ€™s dazzling and bizarre fe...  \n",
       "39307  comedy drama music the ups and downs of the po...  \n",
       "39308  comedy a finnish comedy based on the books of ...  \n",
       "\n",
       "[39309 rows x 2 columns]"
      ]
     },
     "execution_count": 197,
     "metadata": {},
     "output_type": "execute_result"
    }
   ],
   "source": [
    "df"
   ]
  },
  {
   "cell_type": "code",
   "execution_count": 198,
   "metadata": {},
   "outputs": [],
   "source": [
    "df.to_csv(\"Dataset_API/API7.csv\",index=False)"
   ]
  },
  {
   "cell_type": "code",
   "execution_count": 200,
   "metadata": {},
   "outputs": [],
   "source": [
    "df=pd.read_csv(\"Dataset_API/API7.csv\")"
   ]
  },
  {
   "cell_type": "code",
   "execution_count": 201,
   "metadata": {},
   "outputs": [],
   "source": [
    "ml=df.head(10000)\n",
    "ml.reset_index(inplace=True, drop=True)\n",
    "ml.reset_index(inplace=True)\n"
   ]
  },
  {
   "cell_type": "code",
   "execution_count": 202,
   "metadata": {},
   "outputs": [
    {
     "data": {
      "text/html": [
       "<div>\n",
       "<style scoped>\n",
       "    .dataframe tbody tr th:only-of-type {\n",
       "        vertical-align: middle;\n",
       "    }\n",
       "\n",
       "    .dataframe tbody tr th {\n",
       "        vertical-align: top;\n",
       "    }\n",
       "\n",
       "    .dataframe thead th {\n",
       "        text-align: right;\n",
       "    }\n",
       "</style>\n",
       "<table border=\"1\" class=\"dataframe\">\n",
       "  <thead>\n",
       "    <tr style=\"text-align: right;\">\n",
       "      <th></th>\n",
       "      <th>index</th>\n",
       "      <th>title</th>\n",
       "      <th>features</th>\n",
       "    </tr>\n",
       "  </thead>\n",
       "  <tbody>\n",
       "    <tr>\n",
       "      <th>0</th>\n",
       "      <td>0</td>\n",
       "      <td>minions</td>\n",
       "      <td>family animation adventure comedy minions stua...</td>\n",
       "    </tr>\n",
       "    <tr>\n",
       "      <th>1</th>\n",
       "      <td>1</td>\n",
       "      <td>baby driver</td>\n",
       "      <td>action crime after being coerced into working ...</td>\n",
       "    </tr>\n",
       "    <tr>\n",
       "      <th>2</th>\n",
       "      <td>2</td>\n",
       "      <td>big hero 6</td>\n",
       "      <td>adventure family animation action comedy the s...</td>\n",
       "    </tr>\n",
       "    <tr>\n",
       "      <th>3</th>\n",
       "      <td>3</td>\n",
       "      <td>deadpool</td>\n",
       "      <td>action adventure comedy deadpool tells the ori...</td>\n",
       "    </tr>\n",
       "    <tr>\n",
       "      <th>4</th>\n",
       "      <td>4</td>\n",
       "      <td>guardians of the galaxy vol. 2</td>\n",
       "      <td>action adventure comedy sciencefiction the gua...</td>\n",
       "    </tr>\n",
       "    <tr>\n",
       "      <th>...</th>\n",
       "      <td>...</td>\n",
       "      <td>...</td>\n",
       "      <td>...</td>\n",
       "    </tr>\n",
       "    <tr>\n",
       "      <th>9995</th>\n",
       "      <td>9995</td>\n",
       "      <td>turn the river</td>\n",
       "      <td>drama a pool shark takes the ultimate gamble w...</td>\n",
       "    </tr>\n",
       "    <tr>\n",
       "      <th>9996</th>\n",
       "      <td>9996</td>\n",
       "      <td>wonderful world</td>\n",
       "      <td>comedy drama romance ben singer (matthew brode...</td>\n",
       "    </tr>\n",
       "    <tr>\n",
       "      <th>9997</th>\n",
       "      <td>9997</td>\n",
       "      <td>josh</td>\n",
       "      <td>romance drama shah rukh khan and sharad kapoor...</td>\n",
       "    </tr>\n",
       "    <tr>\n",
       "      <th>9998</th>\n",
       "      <td>9998</td>\n",
       "      <td>the last command</td>\n",
       "      <td>drama history romance a former imperial russia...</td>\n",
       "    </tr>\n",
       "    <tr>\n",
       "      <th>9999</th>\n",
       "      <td>9999</td>\n",
       "      <td>the batman superman movie: world's finest</td>\n",
       "      <td>action animation joker goes to metropolis with...</td>\n",
       "    </tr>\n",
       "  </tbody>\n",
       "</table>\n",
       "<p>10000 rows × 3 columns</p>\n",
       "</div>"
      ],
      "text/plain": [
       "      index                                      title  \\\n",
       "0         0                                    minions   \n",
       "1         1                                baby driver   \n",
       "2         2                                 big hero 6   \n",
       "3         3                                   deadpool   \n",
       "4         4             guardians of the galaxy vol. 2   \n",
       "...     ...                                        ...   \n",
       "9995   9995                             turn the river   \n",
       "9996   9996                            wonderful world   \n",
       "9997   9997                                       josh   \n",
       "9998   9998                           the last command   \n",
       "9999   9999  the batman superman movie: world's finest   \n",
       "\n",
       "                                               features  \n",
       "0     family animation adventure comedy minions stua...  \n",
       "1     action crime after being coerced into working ...  \n",
       "2     adventure family animation action comedy the s...  \n",
       "3     action adventure comedy deadpool tells the ori...  \n",
       "4     action adventure comedy sciencefiction the gua...  \n",
       "...                                                 ...  \n",
       "9995  drama a pool shark takes the ultimate gamble w...  \n",
       "9996  comedy drama romance ben singer (matthew brode...  \n",
       "9997  romance drama shah rukh khan and sharad kapoor...  \n",
       "9998  drama history romance a former imperial russia...  \n",
       "9999  action animation joker goes to metropolis with...  \n",
       "\n",
       "[10000 rows x 3 columns]"
      ]
     },
     "execution_count": 202,
     "metadata": {},
     "output_type": "execute_result"
    }
   ],
   "source": [
    "ml"
   ]
  },
  {
   "cell_type": "code",
   "execution_count": 203,
   "metadata": {},
   "outputs": [],
   "source": [
    "tfidf=TfidfVectorizer(stop_words=\"english\",max_features=10000)\n",
    " "
   ]
  },
  {
   "cell_type": "code",
   "execution_count": 204,
   "metadata": {},
   "outputs": [],
   "source": [
    "tfidf_matrix=tfidf.fit_transform(ml[\"features\"])"
   ]
  },
  {
   "cell_type": "code",
   "execution_count": 205,
   "metadata": {},
   "outputs": [
    {
     "data": {
      "text/plain": [
       "(10000, 10000)"
      ]
     },
     "execution_count": 205,
     "metadata": {},
     "output_type": "execute_result"
    }
   ],
   "source": [
    "tfidf_matrix.shape"
   ]
  },
  {
   "cell_type": "code",
   "execution_count": 206,
   "metadata": {},
   "outputs": [],
   "source": [
    "cosine_sim=linear_kernel(tfidf_matrix,tfidf_matrix)"
   ]
  },
  {
   "cell_type": "code",
   "execution_count": 207,
   "metadata": {},
   "outputs": [
    {
     "data": {
      "text/html": [
       "<div>\n",
       "<style scoped>\n",
       "    .dataframe tbody tr th:only-of-type {\n",
       "        vertical-align: middle;\n",
       "    }\n",
       "\n",
       "    .dataframe tbody tr th {\n",
       "        vertical-align: top;\n",
       "    }\n",
       "\n",
       "    .dataframe thead th {\n",
       "        text-align: right;\n",
       "    }\n",
       "</style>\n",
       "<table border=\"1\" class=\"dataframe\">\n",
       "  <thead>\n",
       "    <tr style=\"text-align: right;\">\n",
       "      <th></th>\n",
       "      <th>index</th>\n",
       "      <th>title</th>\n",
       "      <th>features</th>\n",
       "    </tr>\n",
       "  </thead>\n",
       "  <tbody>\n",
       "    <tr>\n",
       "      <th>0</th>\n",
       "      <td>0</td>\n",
       "      <td>minions</td>\n",
       "      <td>family animation adventure comedy minions stua...</td>\n",
       "    </tr>\n",
       "    <tr>\n",
       "      <th>1</th>\n",
       "      <td>1</td>\n",
       "      <td>baby driver</td>\n",
       "      <td>action crime after being coerced into working ...</td>\n",
       "    </tr>\n",
       "    <tr>\n",
       "      <th>2</th>\n",
       "      <td>2</td>\n",
       "      <td>big hero 6</td>\n",
       "      <td>adventure family animation action comedy the s...</td>\n",
       "    </tr>\n",
       "    <tr>\n",
       "      <th>3</th>\n",
       "      <td>3</td>\n",
       "      <td>deadpool</td>\n",
       "      <td>action adventure comedy deadpool tells the ori...</td>\n",
       "    </tr>\n",
       "    <tr>\n",
       "      <th>4</th>\n",
       "      <td>4</td>\n",
       "      <td>guardians of the galaxy vol. 2</td>\n",
       "      <td>action adventure comedy sciencefiction the gua...</td>\n",
       "    </tr>\n",
       "    <tr>\n",
       "      <th>...</th>\n",
       "      <td>...</td>\n",
       "      <td>...</td>\n",
       "      <td>...</td>\n",
       "    </tr>\n",
       "    <tr>\n",
       "      <th>9995</th>\n",
       "      <td>9995</td>\n",
       "      <td>turn the river</td>\n",
       "      <td>drama a pool shark takes the ultimate gamble w...</td>\n",
       "    </tr>\n",
       "    <tr>\n",
       "      <th>9996</th>\n",
       "      <td>9996</td>\n",
       "      <td>wonderful world</td>\n",
       "      <td>comedy drama romance ben singer (matthew brode...</td>\n",
       "    </tr>\n",
       "    <tr>\n",
       "      <th>9997</th>\n",
       "      <td>9997</td>\n",
       "      <td>josh</td>\n",
       "      <td>romance drama shah rukh khan and sharad kapoor...</td>\n",
       "    </tr>\n",
       "    <tr>\n",
       "      <th>9998</th>\n",
       "      <td>9998</td>\n",
       "      <td>the last command</td>\n",
       "      <td>drama history romance a former imperial russia...</td>\n",
       "    </tr>\n",
       "    <tr>\n",
       "      <th>9999</th>\n",
       "      <td>9999</td>\n",
       "      <td>the batman superman movie: world's finest</td>\n",
       "      <td>action animation joker goes to metropolis with...</td>\n",
       "    </tr>\n",
       "  </tbody>\n",
       "</table>\n",
       "<p>10000 rows × 3 columns</p>\n",
       "</div>"
      ],
      "text/plain": [
       "      index                                      title  \\\n",
       "0         0                                    minions   \n",
       "1         1                                baby driver   \n",
       "2         2                                 big hero 6   \n",
       "3         3                                   deadpool   \n",
       "4         4             guardians of the galaxy vol. 2   \n",
       "...     ...                                        ...   \n",
       "9995   9995                             turn the river   \n",
       "9996   9996                            wonderful world   \n",
       "9997   9997                                       josh   \n",
       "9998   9998                           the last command   \n",
       "9999   9999  the batman superman movie: world's finest   \n",
       "\n",
       "                                               features  \n",
       "0     family animation adventure comedy minions stua...  \n",
       "1     action crime after being coerced into working ...  \n",
       "2     adventure family animation action comedy the s...  \n",
       "3     action adventure comedy deadpool tells the ori...  \n",
       "4     action adventure comedy sciencefiction the gua...  \n",
       "...                                                 ...  \n",
       "9995  drama a pool shark takes the ultimate gamble w...  \n",
       "9996  comedy drama romance ben singer (matthew brode...  \n",
       "9997  romance drama shah rukh khan and sharad kapoor...  \n",
       "9998  drama history romance a former imperial russia...  \n",
       "9999  action animation joker goes to metropolis with...  \n",
       "\n",
       "[10000 rows x 3 columns]"
      ]
     },
     "execution_count": 207,
     "metadata": {},
     "output_type": "execute_result"
    }
   ],
   "source": [
    "ml"
   ]
  },
  {
   "cell_type": "code",
   "execution_count": 209,
   "metadata": {},
   "outputs": [],
   "source": [
    "indices=ml[[\"title\",\"index\"]]"
   ]
  },
  {
   "cell_type": "code",
   "execution_count": 210,
   "metadata": {},
   "outputs": [],
   "source": [
    "def recomendacion(titulo):\n",
    "    idx = indices[indices[\"title\"]==titulo]\n",
    "    if idx.empty== True:\n",
    "        recommendations=[\"No data available\"]\n",
    "    else:\n",
    "        idy = idx[\"index\"].iloc[0]\n",
    "        sim_scores = list(enumerate(cosine_sim[idy]))\n",
    "        sim_scores = sorted(sim_scores, key=lambda x: x[1], reverse=True)\n",
    "        sim_scores = sim_scores[1:6]\n",
    "        movie_indices = [i[0] for i in sim_scores]\n",
    "        recommendations = list(ml['title'].iloc[movie_indices].str.title())\n",
    "    return {'titulo':titulo,'lista recomendada': recommendations}\n"
   ]
  },
  {
   "cell_type": "code",
   "execution_count": 211,
   "metadata": {},
   "outputs": [
    {
     "data": {
      "text/plain": [
       "{'titulo': 'toy story',\n",
       " 'lista recomendada': ['Toy Story 3',\n",
       "  'Toy Story 2',\n",
       "  'The 40 Year Old Virgin',\n",
       "  'Small Fry',\n",
       "  'Man On The Moon']}"
      ]
     },
     "execution_count": 211,
     "metadata": {},
     "output_type": "execute_result"
    }
   ],
   "source": [
    "recomendacion(\"toy story\")\n"
   ]
  }
 ],
 "metadata": {
  "kernelspec": {
   "display_name": "Lab",
   "language": "python",
   "name": "python3"
  },
  "language_info": {
   "codemirror_mode": {
    "name": "ipython",
    "version": 3
   },
   "file_extension": ".py",
   "mimetype": "text/x-python",
   "name": "python",
   "nbconvert_exporter": "python",
   "pygments_lexer": "ipython3",
   "version": "3.10.11"
  },
  "orig_nbformat": 4
 },
 "nbformat": 4,
 "nbformat_minor": 2
}
